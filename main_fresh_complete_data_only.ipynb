{
 "cells": [
  {
   "cell_type": "markdown",
   "id": "ba3a675b",
   "metadata": {},
   "source": [
    "\n",
    "# Predictive Model for Cardiac Surgery Outcomes\n",
    "\n",
    "This project uses the `CompleteDataExample_OperationsFor20232024.xlsx` dataset to develop a predictive model for cardiac surgery outcomes. \n",
    "The goal is to provide insights into clinical factors affecting patient outcomes.\n",
    "\n",
    "### Project Steps:\n",
    "1. **Data Loading and Cleaning**: Preparing data for analysis.\n",
    "2. **Data Exploration and Visualization**: Analyzing key clinical features.\n",
    "3. **Model Training**: Training a Gradient Boosting model with hyperparameter tuning.\n",
    "4. **Model Evaluation**: Assessing model performance and feature importance.\n",
    "\n"
   ]
  },
  {
   "cell_type": "code",
   "execution_count": null,
   "id": "e76c1ae9",
   "metadata": {},
   "outputs": [],
   "source": [
    "\n",
    "# Step 1: Import Libraries and Load Dataset\n",
    "import pandas as pd\n",
    "import numpy as np\n",
    "import matplotlib.pyplot as plt\n",
    "import seaborn as sns\n",
    "from sklearn.model_selection import train_test_split, RandomizedSearchCV\n",
    "from sklearn.ensemble import GradientBoostingRegressor\n",
    "from sklearn.metrics import mean_squared_error, r2_score\n",
    "\n",
    "# Set visualization style\n",
    "sns.set(style=\"whitegrid\", palette=\"muted\", font_scale=1.2)\n",
    "\n",
    "# Load dataset\n",
    "file_path = 'CompleteDataExample_OperationsFor20232024.xlsx'\n",
    "data = pd.read_excel(file_path)\n",
    "data.head()\n"
   ]
  },
  {
   "cell_type": "markdown",
   "id": "e98793c0",
   "metadata": {},
   "source": [
    "\n",
    "## Step 2: Data Cleaning and Preprocessing\n",
    "\n",
    "This section involves cleaning the dataset, handling missing values, and encoding categorical features.\n"
   ]
  },
  {
   "cell_type": "code",
   "execution_count": null,
   "id": "a59f2789",
   "metadata": {},
   "outputs": [],
   "source": [
    "\n",
    "# Separate numeric and categorical columns\n",
    "numeric_data = data.select_dtypes(include=[np.number])\n",
    "categorical_data = data.select_dtypes(exclude=[np.number])\n",
    "\n",
    "# Drop columns in numeric data with >50% missing data, then fill remaining with median\n",
    "numeric_data = numeric_data.drop(columns=numeric_data.columns[numeric_data.isnull().mean() > 0.5])\n",
    "numeric_data = numeric_data.fillna(numeric_data.median())\n",
    "\n",
    "# Impute categorical columns by filling missing values with a placeholder 'Unknown' and encoding\n",
    "categorical_data = categorical_data.fillna('Unknown')\n",
    "for column in categorical_data.columns:\n",
    "    categorical_data[column] = categorical_data[column].astype('category').cat.codes\n",
    "\n",
    "# Combine cleaned numeric and categorical data\n",
    "cleaned_data = pd.concat([numeric_data, categorical_data], axis=1)\n",
    "cleaned_data.info()  # Display cleaned data structure\n"
   ]
  },
  {
   "cell_type": "markdown",
   "id": "21e5f3e9",
   "metadata": {},
   "source": [
    "\n",
    "## Step 3: Data Exploration and Visualization\n",
    "\n",
    "Visualizing key clinical outcomes and their correlations.\n"
   ]
  },
  {
   "cell_type": "code",
   "execution_count": null,
   "id": "a8689384",
   "metadata": {},
   "outputs": [],
   "source": [
    "\n",
    "# Visualize distributions of key clinical outcomes\n",
    "outcome_features = ['OPERATIVE MORTALITY', 'MORBIDITY & MORTALITY', 'STROKE', 'RENAL FAILURE', 'REOPERATION',\n",
    "                    'PROLONGED VENTILATION', 'LONG HOSPITAL STAY', 'SHORT HOSPITAL STAY']\n",
    "\n",
    "fig, axes = plt.subplots(3, 3, figsize=(15, 15))\n",
    "fig.suptitle('Distributions of Key Clinical Outcomes')\n",
    "\n",
    "for i, feature in enumerate(outcome_features):\n",
    "    row, col = divmod(i, 3)\n",
    "    sns.histplot(cleaned_data[feature], kde=True, ax=axes[row, col])\n",
    "    axes[row, col].set_title(f'Distribution of {feature}')\n",
    "\n",
    "plt.tight_layout(rect=[0, 0.03, 1, 0.95])\n",
    "plt.show()\n",
    "\n",
    "# Correlation matrix\n",
    "plt.figure(figsize=(10, 8))\n",
    "sns.heatmap(cleaned_data[outcome_features].corr(), annot=True, cmap='coolwarm', fmt=\".2f\")\n",
    "plt.title('Correlation Matrix of Clinical Outcomes')\n",
    "plt.show()\n"
   ]
  },
  {
   "cell_type": "markdown",
   "id": "2f4ba0cb",
   "metadata": {},
   "source": [
    "\n",
    "## Step 4: Model Training and Hyperparameter Tuning\n",
    "\n",
    "Training a Gradient Boosting model with hyperparameter tuning.\n"
   ]
  },
  {
   "cell_type": "code",
   "execution_count": null,
   "id": "b2754fe2",
   "metadata": {},
   "outputs": [],
   "source": [
    "\n",
    "# Define features (X) and target (y)\n",
    "X = cleaned_data[outcome_features]\n",
    "y = cleaned_data['OPERATIVE MORTALITY']\n",
    "\n",
    "# Split the data into training and test sets\n",
    "X_train, X_test, y_train, y_test = train_test_split(X, y, test_size=0.2, random_state=42)\n",
    "\n",
    "# Initialize the Gradient Boosting model\n",
    "gbr = GradientBoostingRegressor(random_state=42)\n",
    "\n",
    "# Define hyperparameters for RandomizedSearchCV\n",
    "param_dist = {\n",
    "    'n_estimators': [50, 100, 150],\n",
    "    'learning_rate': [0.01, 0.1, 0.2],\n",
    "    'max_depth': [3, 5, 7],\n",
    "    'min_samples_split': [2, 5, 10],\n",
    "    'min_samples_leaf': [1, 3, 5]\n",
    "}\n",
    "\n",
    "# Hyperparameter tuning\n",
    "random_search = RandomizedSearchCV(gbr, param_distributions=param_dist, n_iter=10, scoring='neg_mean_squared_error', cv=5, random_state=42)\n",
    "random_search.fit(X_train, y_train)\n",
    "best_gbr = random_search.best_estimator_\n",
    "\n",
    "# Output best parameters\n",
    "best_gbr.get_params()\n"
   ]
  },
  {
   "cell_type": "markdown",
   "id": "02ee6ef6",
   "metadata": {},
   "source": [
    "\n",
    "## Step 5: Model Evaluation\n",
    "\n",
    "Evaluating model performance on the test set using Mean Squared Error (MSE) and R-squared metrics.\n"
   ]
  },
  {
   "cell_type": "code",
   "execution_count": null,
   "id": "9d8c8064",
   "metadata": {},
   "outputs": [],
   "source": [
    "\n",
    "# Predict on test set\n",
    "y_pred = best_gbr.predict(X_test)\n",
    "\n",
    "# Calculate performance metrics\n",
    "mse = mean_squared_error(y_test, y_pred)\n",
    "r2 = r2_score(y_test, y_pred)\n",
    "\n",
    "print(f\"Mean Squared Error: {mse}\")\n",
    "print(f\"R-squared: {r2}\")\n",
    "\n",
    "# Feature importance visualization\n",
    "plt.figure(figsize=(10, 6))\n",
    "sns.barplot(x=best_gbr.feature_importances_, y=X.columns)\n",
    "plt.title('Feature Importance in Gradient Boosting Model')\n",
    "plt.xlabel('Importance')\n",
    "plt.ylabel('Feature')\n",
    "plt.show()\n"
   ]
  }
 ],
 "metadata": {},
 "nbformat": 4,
 "nbformat_minor": 5
}
