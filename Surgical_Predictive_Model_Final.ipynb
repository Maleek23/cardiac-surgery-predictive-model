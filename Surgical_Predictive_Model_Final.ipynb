{
 "cells": [
  {
   "cell_type": "markdown",
   "id": "03172660",
   "metadata": {},
   "source": [
    "# Predictive Model for Surgical Outcomes\n",
    "\n",
    "This notebook demonstrates data cleaning, exploratory data analysis (EDA), and predictive modeling for surgical outcomes using a Random Forest Classifier."
   ]
  },
  {
   "cell_type": "markdown",
   "id": "8990c7a6",
   "metadata": {},
   "source": [
    "## Data Loading"
   ]
  },
  {
   "cell_type": "code",
   "execution_count": null,
   "id": "0783e1c4",
   "metadata": {},
   "outputs": [],
   "source": [
    "\n",
    "import pandas as pd\n",
    "import numpy as np\n",
    "\n",
    "# Load the dataset\n",
    "data_path = r\"C:\\Users\\Leek\\Desktop\\Personal Docs\\P\\OU SYS ENG MS\\DECISON ANALYSIS\\Project\\SurgdecMODEL\\CompleteDataExample_OperationsFor20232024.xlsx\"\n",
    "data = pd.read_excel(data_path)\n",
    "\n",
    "# Display the first few rows\n",
    "data.head()\n"
   ]
  },
  {
   "cell_type": "markdown",
   "id": "3354b93f",
   "metadata": {},
   "source": [
    "## Data Cleaning\n",
    "\n",
    "Handle missing values and drop unnecessary columns."
   ]
  },
  {
   "cell_type": "code",
   "execution_count": null,
   "id": "db485619",
   "metadata": {},
   "outputs": [],
   "source": [
    "\n",
    "# Fill missing values for numerical and categorical columns\n",
    "numerical_cols = ['AGE', 'BMI', 'CREATININE', 'HEMATOCRIT', 'WBC COUNT', 'PLATELET COUNT']\n",
    "data[numerical_cols] = data[numerical_cols].fillna(data[numerical_cols].median())\n",
    "\n",
    "categorical_cols = ['SEX', 'ETHNICITY', 'Insurer']\n",
    "data[categorical_cols] = data[categorical_cols].fillna(data[categorical_cols].mode().iloc[0])\n",
    "\n",
    "# Drop columns with excessive missing values (>50%)\n",
    "data = data.drop(columns=['TEAM LEAD', 'COMPLICATION', 'VASCULAR RF', 'NYHA CLASS', 'EF', 'CAD', 'PREVIOUS PCI', 'WEIGHT', 'HEIGHT'])\n",
    "\n",
    "# Verify the cleaned data\n",
    "data.info()\n"
   ]
  },
  {
   "cell_type": "markdown",
   "id": "5b2962e6",
   "metadata": {},
   "source": [
    "## Exploratory Data Analysis (EDA)\n",
    "\n",
    "Visualize distributions, correlations, and other insights."
   ]
  },
  {
   "cell_type": "markdown",
   "id": "a2c044e9",
   "metadata": {},
   "source": [
    "### Age Distribution"
   ]
  },
  {
   "cell_type": "code",
   "execution_count": null,
   "id": "4490e20c",
   "metadata": {},
   "outputs": [],
   "source": [
    "\n",
    "import matplotlib.pyplot as plt\n",
    "import seaborn as sns\n",
    "\n",
    "# Age distribution\n",
    "plt.figure(figsize=(10, 6))\n",
    "sns.histplot(data['AGE'], kde=True, bins=20, color='teal')\n",
    "plt.title('Age Distribution of Patients', fontsize=16)\n",
    "plt.xlabel('Age (Years)', fontsize=12)\n",
    "plt.ylabel('Frequency', fontsize=12)\n",
    "plt.grid(axis='y', linestyle='--', alpha=0.7)\n",
    "plt.show()\n"
   ]
  },
  {
   "cell_type": "markdown",
   "id": "9eb96673",
   "metadata": {},
   "source": [
    "### Morbidity and Mortality by Age Group"
   ]
  },
  {
   "cell_type": "code",
   "execution_count": null,
   "id": "43151fbe",
   "metadata": {},
   "outputs": [],
   "source": [
    "\n",
    "# Group by age\n",
    "data['Age Group'] = pd.cut(data['AGE'], bins=[0, 40, 60, 80, 100], labels=['0-40', '41-60', '61-80', '81-100'])\n",
    "morbidity_by_age_group = data.groupby('Age Group')['MORBIDITY & MORTALITY'].mean()\n",
    "\n",
    "# Plot\n",
    "plt.figure(figsize=(10, 6))\n",
    "morbidity_by_age_group.plot(kind='bar', color='lightgreen', edgecolor='black')\n",
    "plt.title('Average Morbidity & Mortality by Age Group', fontsize=16)\n",
    "plt.xlabel('Age Group', fontsize=12)\n",
    "plt.ylabel('Average Morbidity & Mortality (%)', fontsize=12)\n",
    "plt.xticks(rotation=0)\n",
    "plt.grid(axis='y', linestyle='--', alpha=0.7)\n",
    "plt.show()\n"
   ]
  },
  {
   "cell_type": "markdown",
   "id": "29166527",
   "metadata": {},
   "source": [
    "## Feature Importance\n",
    "\n",
    "Visualizing the importance of features in predicting outcomes."
   ]
  },
  {
   "cell_type": "code",
   "execution_count": null,
   "id": "e6e2c6f3",
   "metadata": {},
   "outputs": [],
   "source": [
    "\n",
    "from sklearn.model_selection import train_test_split\n",
    "from sklearn.ensemble import RandomForestClassifier\n",
    "\n",
    "# Create target variable\n",
    "data['MORTALITY_HIGH'] = (data['OPERATIVE MORTALITY'] > data['OPERATIVE MORTALITY'].median()).astype(int)\n",
    "target = 'MORTALITY_HIGH'\n",
    "features = ['AGE', 'BMI', 'CREATININE', 'HEMATOCRIT', 'WBC COUNT', 'PLATELET COUNT',\n",
    "            'MORBIDITY & MORTALITY', 'STROKE', 'RENAL FAILURE', 'REOPERATION',\n",
    "            'PROLONGED VENTILATION', 'LONG HOSPITAL STAY', 'SHORT HOSPITAL STAY']\n",
    "\n",
    "X = data[features]\n",
    "y = data[target]\n",
    "\n",
    "# Train-test split\n",
    "X_train, X_test, y_train, y_test = train_test_split(X, y, test_size=0.3, random_state=42, stratify=y)\n",
    "\n",
    "# Train Random Forest model\n",
    "model = RandomForestClassifier(random_state=42, n_estimators=200, max_depth=5, min_samples_split=2)\n",
    "model.fit(X_train, y_train)\n",
    "\n",
    "# Feature importance\n",
    "importances = model.feature_importances_\n",
    "feature_importance_df = pd.DataFrame({'Feature': features, 'Importance': importances}).sort_values(by='Importance', ascending=False)\n",
    "\n",
    "# Plot\n",
    "plt.figure(figsize=(10, 6))\n",
    "sns.barplot(x='Importance', y='Feature', data=feature_importance_df, palette='viridis')\n",
    "plt.title('Feature Importance in Predictive Model', fontsize=16)\n",
    "plt.xlabel('Importance', fontsize=12)\n",
    "plt.ylabel('Feature', fontsize=12)\n",
    "plt.grid(axis='x', linestyle='--', alpha=0.7)\n",
    "plt.show()\n"
   ]
  }
 ],
 "metadata": {},
 "nbformat": 4,
 "nbformat_minor": 5
}